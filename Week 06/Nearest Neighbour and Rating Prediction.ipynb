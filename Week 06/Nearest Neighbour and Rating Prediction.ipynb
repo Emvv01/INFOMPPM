{
 "cells": [
  {
   "cell_type": "markdown",
   "id": "58ffa5a7",
   "metadata": {},
   "source": [
    "# Nearest Neighbour and Rating Prediction\n",
    "\n",
    "In this section we will look at item-based collaborative filtering to cluster together items having similar ratings and to predict what a certain user might rate a yet unrated item. "
   ]
  },
  {
   "cell_type": "markdown",
   "id": "c9d968be",
   "metadata": {},
   "source": [
    "## Prepare dataset"
   ]
  },
  {
   "cell_type": "code",
   "execution_count": null,
   "id": "d8bffc7b",
   "metadata": {},
   "outputs": [],
   "source": [
    "import pandas as pd\n",
    "df_books_ratings = pd.read_csv('data/BX-Book-Ratings.csv', sep=';', encoding='latin-1')"
   ]
  },
  {
   "cell_type": "code",
   "execution_count": null,
   "id": "f1f659c0",
   "metadata": {},
   "outputs": [],
   "source": [
    "df = df_books_ratings\n",
    "\n",
    "df = df[df['Book-Rating'] != 0]\n",
    "\n",
    "# subset users (more than 20 reviews\n",
    "x = df['User-ID'].value_counts() >= 20\n",
    "\n",
    "users = x[x].index \n",
    "\n",
    "df = df[df['User-ID'].isin(users)]\n",
    "\n",
    "# subset books (more than 20 reviews)\n",
    "x = df['ISBN'].value_counts() >= 20\n",
    "\n",
    "isbns = x[x].index \n",
    "\n",
    "df = df[df['ISBN'].isin(isbns)]\n",
    "\n",
    "df.to_csv('data/BX-Book-Ratings-Subset.csv', index=False, sep=';')"
   ]
  },
  {
   "cell_type": "markdown",
   "id": "4db1e580",
   "metadata": {},
   "source": [
    "## Creating the rating matrix\n",
    "\n",
    "As covered in week 02, we need to construct a rating matrix out of the ratings dataset. Each row of the matrix are user ratings for a given book."
   ]
  },
  {
   "cell_type": "code",
   "execution_count": null,
   "id": "eedf90d5",
   "metadata": {},
   "outputs": [],
   "source": [
    "df_books_ratings = pd.read_csv('data/BX-Book-Ratings-Subset.csv', sep=';')"
   ]
  },
  {
   "cell_type": "code",
   "execution_count": null,
   "id": "afc61bd1",
   "metadata": {},
   "outputs": [],
   "source": [
    "df = df_books_ratings.pivot(index='ISBN', columns='User-ID', values='Book-Rating').fillna(0)\n",
    "df"
   ]
  },
  {
   "cell_type": "markdown",
   "id": "f8d6458e",
   "metadata": {},
   "source": [
    "## Nearest Neighbors\n",
    "\n",
    "\n",
    "$$\n",
    "sim(i, j) = \\frac{r_{i} \\cdot r_{j}} {||r_{i}||_{2}||r_{j}||_{2}}\n",
    "$$\n",
    "\n",
    "Now that we have a ratings matrix, we can compute similarities between books bases on their respective ratings. Remember cosine distance? We will use this with sklearn's NearestNeighbors algorithm.   "
   ]
  },
  {
   "cell_type": "code",
   "execution_count": null,
   "id": "ff2f7a97",
   "metadata": {},
   "outputs": [],
   "source": [
    "from sklearn.neighbors import NearestNeighbors\n",
    "\n",
    "knn = NearestNeighbors(metric='cosine', algorithm='brute')\n",
    "\n",
    "knn.fit(df.values)\n",
    "\n",
    "distances, indices = knn.kneighbors(df.values, n_neighbors=5)"
   ]
  },
  {
   "cell_type": "markdown",
   "id": "7a2a03e9",
   "metadata": {},
   "source": [
    "Lets explore the NearestNeighbors outputs and construct a data structure to hold the computed neighbourhoods! Please note that the first element of each array in the indices list is the base element from which the distance with the other elements are computed (hence the distance of 0 in the distances array)."
   ]
  },
  {
   "cell_type": "code",
   "execution_count": null,
   "id": "52c7ebeb",
   "metadata": {},
   "outputs": [],
   "source": [
    " indices\n",
    "# distances"
   ]
  },
  {
   "cell_type": "code",
   "execution_count": null,
   "id": "ac74e598",
   "metadata": {},
   "outputs": [],
   "source": [
    "neighbours = {}\n",
    "\n",
    "for i in range(0, len(indices)):\n",
    "    nn = indices[i]\n",
    "    dist = distances[i]    \n",
    "    e = nn[0]\n",
    "    e_isbn = df.index[e]    \n",
    "    neighbours[e_isbn] = {\"nn\": [df.index[n] for n in nn[1:]], \"dist\": [1 - x for x in dist[1:]]}\n",
    "    \n",
    "neighbours\n",
    "    "
   ]
  },
  {
   "cell_type": "markdown",
   "id": "e6b9ccc1",
   "metadata": {},
   "source": [
    "## Predict rating (based on neighbours)\n",
    "\n",
    "Now that we have neighbour clusters, we can predict the rating a certain user might give to an item based on this item's neighbours and the potential rating the user gave them. To compute a prediction we use the following:\n",
    "\n",
    "$$\n",
    "Pred(u, i) = \\frac{\\sum_{j} sim(i, j) * r_{u, j}} {\\sum_{j} sim(i, j)}\n",
    "$$\n",
    "\n",
    "Where $sim(i, j)$ is the calculated distance above between items i and j, and $r_{u, j}$ is the rating that the user gave to item j. \n"
   ]
  },
  {
   "cell_type": "code",
   "execution_count": null,
   "id": "3b549e67",
   "metadata": {},
   "outputs": [],
   "source": [
    "def predict_rating(user_id, ISBN, neighbours):\n",
    "    \n",
    "    if ISBN not in neighbours:\n",
    "        print(\"no data for ISBN\")\n",
    "        \n",
    "    neighbours = neighbours[ISBN]\n",
    "    \n",
    "    nn = neighbours['nn']\n",
    "    dist = neighbours['dist']\n",
    "    \n",
    "    numerator = 0\n",
    "    denominator = 0\n",
    "    \n",
    "    for i in range(0, len(nn)):\n",
    "        \n",
    "        isbn = nn[i]\n",
    "        user_rating = df.loc[isbn, user_id]\n",
    "            \n",
    "        numerator += user_rating * dist[i]\n",
    "        denominator += dist[i]\n",
    "            \n",
    "    if denominator > 0:\n",
    "        \n",
    "        return numerator / denominator\n",
    "    \n",
    "    else: \n",
    "        \n",
    "        return 0\n"
   ]
  },
  {
   "cell_type": "markdown",
   "id": "b57da7ce",
   "metadata": {},
   "source": [
    "Can you think of a way to use predictions to recommend items to a given user? If so, how would you rank the recommendations?"
   ]
  },
  {
   "cell_type": "code",
   "execution_count": null,
   "id": "f71b0d7b",
   "metadata": {},
   "outputs": [],
   "source": [
    "all_books = df.index.tolist()\n",
    "all_users = df.columns.tolist()\n",
    "\n",
    "for b in all_books:\n",
    "    for u in all_users:\n",
    "        pr = predict_rating(u, b, neighbours)\n",
    "        if pr > 0:\n",
    "             print(f\"{b} - {u}: prediction - {pr}\")\n"
   ]
  }
 ],
 "metadata": {
  "kernelspec": {
   "display_name": "Python 3 (ipykernel)",
   "language": "python",
   "name": "python3"
  },
  "language_info": {
   "codemirror_mode": {
    "name": "ipython",
    "version": 3
   },
   "file_extension": ".py",
   "mimetype": "text/x-python",
   "name": "python",
   "nbconvert_exporter": "python",
   "pygments_lexer": "ipython3",
   "version": "3.9.6"
  }
 },
 "nbformat": 4,
 "nbformat_minor": 5
}
